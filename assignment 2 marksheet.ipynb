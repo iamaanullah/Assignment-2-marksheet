{
 "cells": [
  {
   "cell_type": "code",
   "execution_count": 1,
   "metadata": {},
   "outputs": [
    {
     "name": "stdout",
     "output_type": "stream",
     "text": [
      "Enter your Maths Marks:52\n",
      "Enter your English Marks:68\n",
      "Enter your Urdu Marks:88\n",
      "grade: B and your percentage is 69.33333333333334\n"
     ]
    }
   ],
   "source": [
    "math = int(input(\"Enter your Maths Marks:\"))\n",
    "eng = int(input(\"Enter your English Marks:\"))\n",
    "urdu = int(input(\"Enter your Urdu Marks:\"))\n",
    "\n",
    "total = ((math + eng + urdu)/300)*100\n",
    "\n",
    "if total >= 80:\n",
    "    print(\"grade: A+ and your percentage is\", total)\n",
    "elif total >=70 and total <80:\n",
    "    print(\"grade: A and your percentage is\", total)\n",
    "elif total >=60 and total <70:\n",
    "    print(\"grade: B and your percentage is\", total)\n",
    "elif total >=50 and total <60:\n",
    "    print(\"grade C and your percentage is\", total)\n",
    "elif total >=40 and total <50:\n",
    "    print(\"grade D and your percentage is\", total)\n",
    "else:\n",
    "    print(\"Failed! Your percentage is:\", total)"
   ]
  },
  {
   "cell_type": "code",
   "execution_count": null,
   "metadata": {},
   "outputs": [],
   "source": []
  }
 ],
 "metadata": {
  "kernelspec": {
   "display_name": "Python 3",
   "language": "python",
   "name": "python3"
  },
  "language_info": {
   "codemirror_mode": {
    "name": "ipython",
    "version": 3
   },
   "file_extension": ".py",
   "mimetype": "text/x-python",
   "name": "python",
   "nbconvert_exporter": "python",
   "pygments_lexer": "ipython3",
   "version": "3.7.4"
  }
 },
 "nbformat": 4,
 "nbformat_minor": 2
}
